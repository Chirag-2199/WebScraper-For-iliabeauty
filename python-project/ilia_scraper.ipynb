{
 "cells": [
  {
   "cell_type": "code",
   "execution_count": null,
   "id": "482d5899-fa0c-4080-8c87-c4195d175929",
   "metadata": {},
   "outputs": [],
   "source": [
    "# Ilia Beauty Scraper 🛍️\n",
    "This notebook extracts product details and customer reviews from [iliabeauty.com](https://iliabeauty.com).  \n",
    "It fetches:\n",
    "- Product name, brand, price, ratings, description\n",
    "- Reviews (reviewer name, rating, title, body, date, verified buyer status)\n",
    "- Saves reviews in `reviews.csv`\n"
   ]
  },
  {
   "cell_type": "code",
   "execution_count": null,
   "id": "d361bce3-b587-44fb-98a8-ae2d231e3c6b",
   "metadata": {},
   "outputs": [],
   "source": [
    "!pip install selenium webdriver-manager pandas\n",
    "from selenium import webdriver\n",
    "from selenium.webdriver.common.by import By\n",
    "from selenium.webdriver.chrome.service import Service\n",
    "from selenium.webdriver.support.ui import WebDriverWait\n",
    "from selenium.webdriver.support import expected_conditions as EC\n",
    "from webdriver_manager.chrome import ChromeDriverManager\n",
    "import time\n",
    "import csv\n"
   ]
  },
  {
   "cell_type": "code",
   "execution_count": null,
   "id": "481230a2-abb3-4b9c-abeb-4917f8c09ad5",
   "metadata": {},
   "outputs": [],
   "source": [
    "class IliaBeautyScraper:\n",
    "    def __init__(self, url):\n",
    "        self.url = url\n",
    "        self.driver = webdriver.Chrome(service=Service(ChromeDriverManager().install()))\n",
    "\n",
    "    def fetch_page(self):\n",
    "        self.driver.get(self.url)\n",
    "        time.sleep(5)  \n",
    "\n",
    "    def get_product_name(self):\n",
    "        try:\n",
    "            return self.driver.find_element(By.TAG_NAME, \"h1\").text.strip()\n",
    "        except:\n",
    "            return \"Product name not found.\"\n",
    "\n",
    "    def scrape(self):\n",
    "        self.fetch_page()\n",
    "        product_info = {\n",
    "            \"Product Name\": self.get_product_name()\n",
    "        }\n",
    "        self.driver.quit()\n",
    "        return product_info\n"
   ]
  },
  {
   "cell_type": "code",
   "execution_count": null,
   "id": "7c98ade3-b1c0-4de7-8032-bccef9272baf",
   "metadata": {},
   "outputs": [],
   "source": [
    "url = \"https://iliabeauty.com/products/wanderlust\"\n",
    "scraper = IliaBeautyScraper(url)\n",
    "product_data = scraper.scrape()\n",
    "print(product_data)\n"
   ]
  },
  {
   "cell_type": "code",
   "execution_count": null,
   "id": "a0a89402-ef04-4da1-a37d-b7043b9ab7d6",
   "metadata": {},
   "outputs": [],
   "source": [
    "import pandas as pd\n",
    "df = pd.DataFrame(scraper.get_reviews(), columns=[\"Reviewer\", \"Rating\", \"Title\", \"Body\", \"Date\", \"Verified Buyer\"])\n",
    "df.to_csv(\"reviews.csv\", index=False)\n",
    "print(\"Reviews saved as reviews.csv\")\n"
   ]
  },
  {
   "cell_type": "code",
   "execution_count": null,
   "id": "5e723b36-09d1-4477-9dca-0b0d8b9a9ec2",
   "metadata": {},
   "outputs": [],
   "source": [
    "import pandas as pd\n",
    "df = pd.DataFrame(scraper.get_reviews(), columns=[\"Reviewer\", \"Rating\", \"Title\", \"Body\", \"Date\", \"Verified Buyer\"])\n",
    "df.to_csv(\"reviews.csv\", index=False)\n",
    "print(\"Reviews saved as reviews.csv\")\n"
   ]
  }
 ],
 "metadata": {
  "kernelspec": {
   "display_name": "Python 3 (ipykernel)",
   "language": "python",
   "name": "python3"
  },
  "language_info": {
   "codemirror_mode": {
    "name": "ipython",
    "version": 3
   },
   "file_extension": ".py",
   "mimetype": "text/x-python",
   "name": "python",
   "nbconvert_exporter": "python",
   "pygments_lexer": "ipython3",
   "version": "3.13.2"
  }
 },
 "nbformat": 4,
 "nbformat_minor": 5
}
