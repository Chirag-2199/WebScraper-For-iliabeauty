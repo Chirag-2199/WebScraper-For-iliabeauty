{
 "cells": [
  {
   "cell_type": "code",
   "execution_count": null,
   "id": "39d0f271-ed6e-4adb-b15e-298b0d724db9",
   "metadata": {},
   "outputs": [],
   "source": [
    "A WebScrapper for ILIABEAUTY"
   ]
  }
 ],
 "metadata": {
  "kernelspec": {
   "display_name": "Python 3 (ipykernel)",
   "language": "python",
   "name": "python3"
  },
  "language_info": {
   "codemirror_mode": {
    "name": "ipython",
    "version": 3
   },
   "file_extension": ".py",
   "mimetype": "text/x-python",
   "name": "python",
   "nbconvert_exporter": "python",
   "pygments_lexer": "ipython3",
   "version": "3.13.2"
  }
 },
 "nbformat": 4,
 "nbformat_minor": 5
}
